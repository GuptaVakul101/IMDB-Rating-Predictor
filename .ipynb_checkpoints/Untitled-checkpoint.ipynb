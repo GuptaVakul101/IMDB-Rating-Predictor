{
 "cells": [
  {
   "cell_type": "code",
   "execution_count": 1,
   "metadata": {},
   "outputs": [
    {
     "name": "stderr",
     "output_type": "stream",
     "text": [
      "[nltk_data] Downloading package stopwords to\n",
      "[nltk_data]     /home/lavishgulati/nltk_data...\n",
      "[nltk_data]   Package stopwords is already up-to-date!\n",
      "[nltk_data] Downloading package punkt to\n",
      "[nltk_data]     /home/lavishgulati/nltk_data...\n",
      "[nltk_data]   Package punkt is already up-to-date!\n",
      "Using TensorFlow backend.\n"
     ]
    }
   ],
   "source": [
    "import nltk\n",
    "nltk.download('stopwords')\n",
    "nltk.download('punkt')\n",
    "from nltk import sent_tokenize, word_tokenize\n",
    "from nltk.corpus import stopwords\n",
    "import string\n",
    "import gensim\n",
    "from keras.models import Sequential\n",
    "from keras.layers import Dense, Embedding, LSTM, GRU\n",
    "from keras.layers.embeddings import Embedding\n",
    "from keras.initializers import Constant"
   ]
  },
  {
   "cell_type": "code",
   "execution_count": 2,
   "metadata": {},
   "outputs": [
    {
     "name": "stdout",
     "output_type": "stream",
     "text": [
      "['i', 'me', 'my', 'myself', 'we', 'our', 'ours', 'ourselves', 'you', \"you're\", \"you've\", \"you'll\", \"you'd\", 'your', 'yours', 'yourself', 'yourselves', 'he', 'him', 'his', 'himself', 'she', \"she's\", 'her', 'hers', 'herself', 'it', \"it's\", 'its', 'itself', 'they', 'them', 'their', 'theirs', 'themselves', 'what', 'which', 'who', 'whom', 'this', 'that', \"that'll\", 'these', 'those', 'am', 'is', 'are', 'was', 'were', 'be', 'been', 'being', 'have', 'has', 'had', 'having', 'do', 'does', 'did', 'doing', 'a', 'an', 'the', 'and', 'but', 'if', 'or', 'because', 'as', 'until', 'while', 'of', 'at', 'by', 'for', 'with', 'about', 'against', 'between', 'into', 'through', 'during', 'before', 'after', 'above', 'below', 'to', 'from', 'up', 'down', 'in', 'out', 'on', 'off', 'over', 'under', 'again', 'further', 'then', 'once', 'here', 'there', 'when', 'where', 'why', 'how', 'all', 'any', 'both', 'each', 'few', 'more', 'most', 'other', 'some', 'such', 'no', 'nor', 'not', 'only', 'own', 'same', 'so', 'than', 'too', 'very', 's', 't', 'can', 'will', 'just', 'don', \"don't\", 'should', \"should've\", 'now', 'd', 'll', 'm', 'o', 're', 've', 'y', 'ain', 'aren', \"aren't\", 'couldn', \"couldn't\", 'didn', \"didn't\", 'doesn', \"doesn't\", 'hadn', \"hadn't\", 'hasn', \"hasn't\", 'haven', \"haven't\", 'isn', \"isn't\", 'ma', 'mightn', \"mightn't\", 'mustn', \"mustn't\", 'needn', \"needn't\", 'shan', \"shan't\", 'shouldn', \"shouldn't\", 'wasn', \"wasn't\", 'weren', \"weren't\", 'won', \"won't\", 'wouldn', \"wouldn't\", 'I', 'Me', 'My', 'Myself', 'We', 'Our', 'Ours', 'Ourselves', 'You', \"You're\", \"You've\", \"You'll\", \"You'd\", 'Your', 'Yours', 'Yourself', 'Yourselves', 'He', 'Him', 'His', 'Himself', 'She', \"She's\", 'Her', 'Hers', 'Herself', 'It', \"It's\", 'Its', 'Itself', 'They', 'Them', 'Their', 'Theirs', 'Themselves', 'What', 'Which', 'Who', 'Whom', 'This', 'That', \"That'll\", 'These', 'Those', 'Am', 'Is', 'Are', 'Was', 'Were', 'Be', 'Been', 'Being', 'Have', 'Has', 'Had', 'Having', 'Do', 'Does', 'Did', 'Doing', 'A', 'An', 'The', 'And', 'But', 'If', 'Or', 'Because', 'As', 'Until', 'While', 'Of', 'At', 'By', 'For', 'With', 'About', 'Against', 'Between', 'Into', 'Through', 'During', 'Before', 'After', 'Above', 'Below', 'To', 'From', 'Up', 'Down', 'In', 'Out', 'On', 'Off', 'Over', 'Under', 'Again', 'Further', 'Then', 'Once', 'Here', 'There', 'When', 'Where', 'Why', 'How', 'All', 'Any', 'Both', 'Each', 'Few', 'More', 'Most', 'Other', 'Some', 'Such', 'No', 'Nor', 'Not', 'Only', 'Own', 'Same', 'So', 'Than', 'Too', 'Very', 'S', 'T', 'Can', 'Will', 'Just', 'Don', \"Don't\", 'Should', \"Should've\", 'Now', 'D', 'Ll', 'M', 'O', 'Re', 'Ve', 'Y', 'Ain', 'Aren', \"Aren't\", 'Couldn', \"Couldn't\", 'Didn', \"Didn't\", 'Doesn', \"Doesn't\", 'Hadn', \"Hadn't\", 'Hasn', \"Hasn't\", 'Haven', \"Haven't\", 'Isn', \"Isn't\", 'Ma', 'Mightn', \"Mightn't\", 'Mustn', \"Mustn't\", 'Needn', \"Needn't\", 'Shan', \"Shan't\", 'Shouldn', \"Shouldn't\", 'Wasn', \"Wasn't\", 'Weren', \"Weren't\", 'Won', \"Won't\", 'Wouldn', \"Wouldn't\"]\n"
     ]
    }
   ],
   "source": [
    "punctuations = list(string.punctuation)\n",
    "stop = stopwords.words('english')\n",
    "dummy_stop = []\n",
    "for word in stop:\n",
    "    dummy = word[0].upper()+word[1:]\n",
    "    dummy_stop.append(dummy)\n",
    "stop = stop+dummy_stop\n",
    "print(stop)"
   ]
  },
  {
   "cell_type": "code",
   "execution_count": 3,
   "metadata": {},
   "outputs": [
    {
     "name": "stdout",
     "output_type": "stream",
     "text": [
      "[['film', 'starts', 'introducing', 'us', 'Multiculti', 'tribe', 'Switzerland', 'led', 'shaman', 'eskimo', 'woman', 'seemed', 'forgotten', 'prehistoric', 'hunter', 'gatherers', 'generally', 'wandered', 'around', 'fill', 'instead', 'days', 'waiting', 'year', 'village', 'mammoths', 'meander', 'kill', 'one', 'food', 'luckily', 'lasts', 'year', 'noble', 'existence', 'shattered', 'Arab', 'horsemen', 'looking', 'slaves', 'leave', 'Alps', 'jungles', 'Italy', 'attacked', 'birds', 'lived', 'South', 'America', 'scenery', 'changes', 'Utah', 'track', 'slavers', 'Africa', 'meet', 'Zulu', 'tribes', 'happened', 'bumped', 'Swiss', 'hunter', 'father', 'somehow', 'managed', 'teach', 'Zulu', 'tribe', 'one', 'language', 'seems', 'exist', 'Europe', 'Arab', 'desert', 'slavers', 'attacked', 'zulus', 'Swiss', 'zulus', 'combine', 'forces', 'attack', 'slavers', 'Rather', 'follow', 'river', 'Nile', 'slave', 'town', 'decide', 'cross', 'Sahara', 'food', 'water', 'river', 'would', 'seem', 'sensible', 'option', 'wandering', 'around', 'weeks', 'look', 'stars', 'decide', 'follow', 'North', 'Star', 'slave', 'city', 'common', 'Santa', 'hideaway', 'apparently', 'Hey', 'ho', 'days', 'find', 'slave', 'city', 'turns', 'pyramid', 'construction', 'site', 'led', 'alien', 'Luckily', 'crafty', 'alien', 'god', 'lots', 'slaves', 'ready', 'source', 'desert', 'living', 'woolly', 'mammoths', 'help', 'build', 'pyramid', 'Swiss', 'hunter', 'cries', 'operation', 'desert', 'freedom', 'slaves', 'rebel', 'alien', 'god', 'Indian', 'eunuchs', 'fresh', 'Indiana', 'Jones', 'Temple', 'Doom', 'albino', 'africans', 'flee', 'giant', 'ship', 'stored', 'pyramid', 'rebelling', 'slaves', 'catch', 'kill', 'giant', 'alien', 'turns', 'Lurch', 'Adams', 'family', 'Eskimo', 'woman', 'dies', 'back', 'Alps', 'bring', 'Swiss', 'hunters', 'girlfriend', 'back', 'life', 'Sahara', 'prophetic', 'shes', 'got', 'blue', 'eyes', 'apparently', 'rare', 'led', 'believe', 'Switzerland', 'film', 'ends', 'desert', 'dwelling', 'Zulus', 'giving', 'Swiss', 'crops', 'somehow', 'grew', 'Sahara', 'Swiss', 'set', 'home', 'surely', 'cursing', 'set', 'Lurch', 'giant', 'boat', 'alight', 'surely', 'would', 'speeded', 'journey', 'across', 'Mediterranean', 'group', 'hug', 'back', 'Alps', 'desert', 'crops', 'begin', 'grow', 'foot', 'glacier', 'Needless', 'say', 'wo', 'nt', 'buying'], ['know', 'go', 'cafeteria', 'style', 'restaurant', 'see', 'something', 'usually', 'enjoy', 'like', 'lasagna', 'get', 'lasagna', 'take', 'bite', 'fond', 'memories', 'last', 'time', 'ate', 'real', 'restaurant', 'first', 'taste', 'hits', 'tongue', 'hopes', 'future', 'meal', 'enjoyment', 'flushed', 'toilet', 'cafeteria', 'lasagna', 'looks', 'goods', 'potential', 'great', 'fond', 'memories', 'movies', 'genre', 'good', 'watch', 'edible', 'barely', 'movie', 'pretty', 'good', 'special', 'effects', 'nt', 'boring', 'gave', 'five', 'dialog', 'acting', 'part', 'subpar', 'story', 'nt', 'even', 'make', 'attempt', 'suspend', 'disbelief', 'Forget', 'historically', 'inaccurate', 'ridiculous', 'would', 'catch', 'matinée', 'wait', 'someone', 'else', 'pay', 'cafeteria'], ['critics', 'moaned', 'film', 'technology', 'grows', 'storytelling', 'ability', 'movies', 'shrinks', 'never', 'quite', 'agreed', 'assessment', 'believe', 'place', 'spectacle', 'variety', 'even', 'mindless', 'kind', 'However', 'share', 'view', 'critics', 'BC', 'likely', 'convincing', 'piece', 'evidence', 'argument', 'movie', 'looks', 'like', 'cost', 'millions', 'make', 'saddled', 'screenplay', 'looks', 'like', 'came', 'Dollar', 'StoreDirector', 'cowriter', 'Roland', 'Emmerich', 'stranger', 'brainless', 'spectacles', 'guy', 'brought', 'us', 'Independence', 'Day', 'Hollywood', 'take', 'Godzilla', 'fine', 'line', 'brainless', 'plain', 'brain', 'dead', 'unfortunately', 'BC', 'short', 'spectacle', 'short', 'plot', 'short', 'anything', 'people', 'go', 'movies', 'characters', 'love', 'story', 'drive', 'bare', 'bones', 'plot', 'seems', 'added', 'afterthought', 'got', 'impression', 'Emmerich', 'fellow', 'screenwriter', 'Harald', 'Kloser', 'film', 'score', 'composer', 'making', 'first', 'screenplay', 'credit', 'idea', 'couple', 'cool', 'scenes', 'tried', 'add', 'bunch', 'filler', 'material', 'threw', 'sketchy', 'characters', 'hardly', 'reach', 'two', 'dimensions', 'inhabit', 'filler', 'called', 'screenplay', 'order', 'spectacle', 'work', 'even', 'cheesefilled', 'variety', 'something', 'audience', 'get', 'excited', 'movie', 'one', 'big', 'teaseThe', 'plot', 'even', 'called', 'set', 'days', 'early', 'man', 'heroes', 'unnamed', 'tribal', 'people', 'speak', 'perfect', 'English', 'bodies', 'supermodels', 'hunt', 'mammoths', 'food', 'two', 'characters', 'supposed', 'focused', 'pair', 'young', 'lovers', 'named', 'DLeh', 'Steven', 'Strait', 'Evolet', 'Camilla', 'Belle', 'love', 'care', 'movie', 'never', 'goes', 'way', 'explain', 'rest', 'villagers', 'really', 'matter', 'exist', 'simply', 'captured', 'group', 'foreign', 'invaders', 'come', 'riding', 'peaceful', 'tribe', 'kidnap', 'work', 'slaves', 'back', 'home', 'colony', 'Evolet', 'one', 'captured', 'DLeh', 'small', 'handful', 'others', 'set', 'find', 'taken', 'seek', 'aid', 'tribes', 'also', 'invaded', 'enemy', 'mammoth', 'herd', 'saber', 'tooth', 'tiger', 'nothing', 'anything', 'computer', 'generated', 'special', 'effects', 'simply', 'filmmakers', 'felt', 'current', 'scene', 'needed', 'special', 'effect', 'shot', 'impressed', 'effects', 'nt', 'look', 'place', 'actors', 'BC', 'probably', 'would', 'worked', 'better', 'silent', 'movie', 'subtitled', 'one', 'dialogue', 'comes', 'mouths', 'people', 'wooden', 'spears', 'carry', 'good', 'tribes', 'people', 'movie', 'mastered', 'Queen', 'English', 'naturally', 'evil', 'invading', 'tribe', 'speak', 'subtitles', 'sometimes', 'voices', 'mechanically', 'altered', 'lowered', 'sound', 'threatening', 'demonic', 'one', 'movie', 'allowed', 'personality', 'act', 'differently', 'one', 'another', 'Everybody', 'tribe', 'talks', 'thinks', 'behaves', 'exactly', 'facial', 'hair', 'differing', 'body', 'types', 'main', 'way', 'tell', 'apart', 'would', 'make', 'hard', 'get', 'involved', 'story', 'movie', 'dodges', 'tricky', 'issue', 'even', 'story', 'first', 'place', 'film', 'main', 'tribe', 'attacked', 'movie', 'turns', 'endless', 'string', 'filler', 'material', 'padding', 'drag', 'whole', 'thing', 'feature', 'length', 'Aside', 'brief', 'encounter', 'birdlike', 'prehistoric', 'creatures', 'moments', 'action', 'danger', 'DLeh', 'followers', 'reach', 'land', 'invading', 'army', 'movie', 'throws', 'saber', 'tooth', 'tiger', 'encounter', 'fool', 'us', 'thinking', 'something', 'gon', 'na', 'happen', 'tiger', 'winds', 'boring', 'human', 'characters', 'inhabiting', 'movie', 'millions', 'special', 'effects', 'budget', 'wasted', 'something', 'nt', 'need', 'first', 'place', 'move', 'shaky', 'plot', 'alongThere', 'key', 'ingredient', 'missing', 'BC', 'fun', 'movie', 'fun', 'watch', 'kept', 'waiting', 'something', 'anything', 'happen', 'something', 'eventually', 'happen', 'usually', 'underwhelming', 'know', 'people', 'interested', 'seeing', 'movie', 'special', 'effects', 'think', 'looks', 'enjoyably', 'cheesy', 'people', 'say', 'please', 'drawn', 'curiosity', 'nt', 'even', 'enjoyable', 'bad', 'sense', 'precious', 'time', 'worth', 'theater', 'may', 'charging', 'see', 'movie', 'anyone', 'wondering', 'yes', 'includes', 'budget', 'cinema', 'price'], ['must', 'easily', 'impressed', 'convinced', 'maybe', 'love', 'movies', 'much', 'although', 'plenty', 'hate', 'movie', 'getting', 'skewered', 'professional', 'critics', 'IMDb', 'critics', 'alike', 'really', 'make', 'second', 'guess', 'judgment', 'never', 'let', 'crowd', 'tell', 'way', 'go', 'going', 'start', 'meager', 'expectations', 'BC', 'really', 'sure', 'expect', 'also', 'HUGE', 'History', 'buff', 'studied', 'Sumerian', 'religion', 'culture', 'lot', 'High', 'School', 'yes', 'Sumerian', 'NOT', 'Egyptians', 'like', 'everyone', 'calling', 'anything', 'else', 'BC', 'stunning', 'jaw', 'dropping', 'spectacle', 'hunting', 'Mammoths', 'incredible', 'pyramid', 'building', 'battles', 'ONE', 'thing', 'wrong', 'film', 'rating', 'family', 'film', 'nasty', 'dude', 'wants', 'blood', 'guts', 'gore', 'everything', 'see', 'film', 'needed', 'adult', 'content', 'needed', 'see', 'battle', 'ruggedness', 'lives', 'violence', 'much', 'like', 'Apocalypto', 'understand', 'wanting', 'keep', 'options', 'open', 'make', 'money', 'believe', 'BC', 'made', 'historical', 'grand', 'epic', 'would', 'take', 'home', 'awards', 'make', 'money', 'period', 'believe', 'also', 'common', 'place', 'plot', 'holes', 'weird', 'little', 'things', 'could', 'picked', 'apart', 'sit', 'back', 'watch', 'spectacle', 'enjoy', 'think', 'masterpiece', 'rightThe', 'cast', 'adequate', 'nt', 'think', 'anyone', 'person', 'really', 'stuns', 'amazes', 'good', 'respective', 'roles', 'Relative', 'newcomer', 'Steven', 'Strait', 'plays', 'lead', 'hero', 'man', 'grew', 'believing', 'father', 'abandoned', 'people', 'discovers', 'destined', 'lead', 'good', 'watchable', 'nt', 'light', 'screen', 'anything', 'nt', 'really', 'command', 'huge', 'presence', 'screen', 'Camilla', 'Belle', 'plays', 'love', 'interest', 'stunning', 'really', 'beautiful', 'especially', 'eyes', 'fake', 'really', 'nothing', 'eye', 'candy', 'damsel', 'distress', 'think', 'could', 'better', 'Character', 'actor', 'Cliff', 'Curtis', 'elder', 'longs', 'teach', 'Strait', 'character', 'befriends', 'character', 'could', 'lot', 'important', 'forefront', 'kind', 'quiet', 'foreboding', 'loses', 'lot', 'goes', 'Affif', 'Ben', 'Badra', 'plays', 'villain', 'taken', 'lovely', 'Belle', 'almost', 'expected', 'sort', 'redemption', 'character', 'never', 'happens', 'quite', 'opposite', 'fact', 'Oscar', 'nominated', 'veteran', 'actor', 'Omar', 'Sharif', 'narrator', 'nt', 'use', 'much', 'unfortunateIt', 'seems', 'like', 'comes', 'cast', 'underused', 'lot', 'potential', 'exchanging', 'visual', 'effects', 'works', 'CGI', 'incredible', 'sabertooth', 'tiger', 'stunning', 'Mammoths', 'pyramids', 'main', 'villain', 'god', 'Pyramids', 'disturbing', 'ever', 'historical', 'inaccuracy', 'really', 'nt', 'think', 'film', 'trying', 'BUT', 'inaccurate', 'everyone', 'crying', 'villains', 'film', 'NOT', 'Egyptians', 'Sumerians', 'lot', 'history', 'mostly', 'legend', 'lore', 'think', 'incredible', 'job', 'covering', 'even', 'make', 'mention', 'possibility', 'Atlantis', 'give', 'whole', 'actual', 'visual', 'putting', 'together', 'pyramids', 'original', 'face', 'Sphinx', 'looked', 'awful', 'cartoony', 'still', 'film', 'PG', 'get', 'never', 'showing', 'skin', 'using', 'foul', 'language', 'brutal', 'violence', 'battle', 'scenes', 'still', 'cool', 'never', 'see', 'close', 'anyone', 'dying', 'bring', 'tweens', 'see', 'good', 'different', 'spin', 'historical', 'epic', 'everyone', 'Director', 'Roland', 'Emmerich', 'done', 'really', 'incredible', 'stuff', 'Independence', 'Day', 'disappointing', 'average', 'stuff', 'Godzilla', 'real', 'desire', 'monstrous', 'things', 'budget', 'sometimes', 'work', 'sometimes', 'wo', 'nt', 'nt', 'chastise', 'wanting', 'entertain', 'us', 'good', 'director', 'see', 'style', 'desire', 'entertain', 'say', 'fight', 'harsh', 'critics', 'beginning', 'summer', 'blockbuster', 'pretty', 'incredible'], ['best', 'view', 'movie', 'proper', 'expectations', 'certainly', 'nt', 'designed', 'realistic', 'historically', 'accurate', 'portrayal', 'times', 'better', 'serves', 'mythological', 'tale', 'human', 'struggle', 'experienced', 'fictional', 'tribe', 'somewhere', 'North', 'Himalayan', 'mountains', 'able', 'learn', 'interaction', 'leader', 'Dhel', 'journey', 'tribes', 'recapture', 'people', 'taken', 'slaves', 'advanced', 'civilizationYes', 'many', 'inconsistencies', 'film', 'relates', 'time', 'place', 'languages', 'spoken', 'Even', 'amusing', 'existence', 'jungle', 'roaming', 'carnivorous', 'ostriches', 'never', 'existed', 'along', 'sabre', 'tooth', 'tigers', 'wooly', 'mammoths', 'long', 'extinct', 'appreciated', 'movie', 'struggle', 'mankind', 'including', 'personal', 'insecurities', 'overcome', 'cooperation', 'developed', 'vested', 'interest', 'unite', 'vanquish', 'common', 'enemy', 'respect', 'movie', 'compared', 'challenges', 'faced', 'throughout', 'history', 'continue', 'daySome', 'embellishments', 'include', 'protagonist', 'modest', 'crew', 'crossing', 'Himalayas', 'keeping', 'pace', 'demons', 'four', 'legs', 'Egyptians', 'horseback', 'captured', 'villagers', 'including', 'cherished', 'Evolet', 'extreme', 'distance', 'journey', 'far', 'exceeds', 'possible', 'range', 'covered', 'peoples', 'though', 'nomadic', 'usually', 'never', 'wandered', 'hundred', 'square', 'miles', 'origins', 'Despite', 'harsh', 'realities', 'witness', 'grim', 'meanderings', 'across', 'Himalayas', 'Indian', 'jungles', 'across', 'Middle', 'East', 'lastly', 'join', 'forces', 'African', 'tribes', 'along', 'Nile', 'even', 'dragging', 'injured', 'journey', 'magnitude', 'would', 'possible', 'another', 'years', 'Mesopotamians', 'domesticated', 'horses', 'first', 'placeHowever', 'considering', 'movie', 'context', 'rather', 'content', 'BC', 'becomes', 'intriguing', 'diversion', 'realistic', 'entertainment', 'alternative', 'reality']]\n",
      "['1', '5', '1', '9', '7']\n"
     ]
    }
   ],
   "source": [
    "reviews = []\n",
    "rating = []\n",
    "with open('all_reviews.tsv','r') as fp:\n",
    "    lines=fp.readlines()\n",
    "\n",
    "count=0\n",
    "for line in lines:\n",
    "    if count > 100:\n",
    "        break\n",
    "    words=word_tokenize(line)\n",
    "    for i in range(len(words)):\n",
    "        dummy=\"\"\n",
    "        for j in range(len(words[i])):\n",
    "            if not words[i][j] in punctuations:\n",
    "                dummy += words[i][j]\n",
    "        words[i] = dummy\n",
    "    clean_words=[w for w in words if not w in stop]\n",
    "    rating.append(clean_words[len(clean_words)-1])\n",
    "    clean_sym_words = [w for w in clean_words if w.isalpha()]\n",
    "    reviews.append(clean_sym_words[0:len(clean_sym_words)-1])\n",
    "    \n",
    "    count += 1\n",
    "\n",
    "print(reviews[0:5])\n",
    "print(rating[0:5])"
   ]
  },
  {
   "cell_type": "code",
   "execution_count": 4,
   "metadata": {},
   "outputs": [],
   "source": [
    "# Using Google pre-trained word2vec embeddings\n",
    "model = gensim.models.KeyedVectors.load_word2vec_format('./model/GoogleNews-vectors-negative300.bin', binary=True)"
   ]
  },
  {
   "cell_type": "code",
   "execution_count": 5,
   "metadata": {},
   "outputs": [
    {
     "name": "stderr",
     "output_type": "stream",
     "text": [
      "/home/lavishgulati/.local/lib/python3.6/site-packages/ipykernel_launcher.py:1: DeprecationWarning: Call to deprecated `wv` (Attribute will be removed in 4.0.0, use self instead).\n",
      "  \"\"\"Entry point for launching an IPython kernel.\n"
     ]
    },
    {
     "ename": "MemoryError",
     "evalue": "",
     "output_type": "error",
     "traceback": [
      "\u001b[0;31m-----------------------------------------------------------------------\u001b[0m",
      "\u001b[0;31mMemoryError\u001b[0m                           Traceback (most recent call last)",
      "\u001b[0;32m<ipython-input-5-ddcea377d09c>\u001b[0m in \u001b[0;36m<module>\u001b[0;34m\u001b[0m\n\u001b[0;32m----> 1\u001b[0;31m \u001b[0mmodel\u001b[0m\u001b[0;34m.\u001b[0m\u001b[0mwv\u001b[0m\u001b[0;34m.\u001b[0m\u001b[0mmost_similar\u001b[0m\u001b[0;34m(\u001b[0m\u001b[0;34m'good'\u001b[0m\u001b[0;34m)\u001b[0m\u001b[0;34m\u001b[0m\u001b[0m\n\u001b[0m",
      "\u001b[0;32m~/.local/lib/python3.6/site-packages/gensim/models/keyedvectors.py\u001b[0m in \u001b[0;36mmost_similar\u001b[0;34m(self, positive, negative, topn, restrict_vocab, indexer)\u001b[0m\n\u001b[1;32m    520\u001b[0m             \u001b[0mnegative\u001b[0m \u001b[0;34m=\u001b[0m \u001b[0;34m[\u001b[0m\u001b[0;34m]\u001b[0m\u001b[0;34m\u001b[0m\u001b[0m\n\u001b[1;32m    521\u001b[0m \u001b[0;34m\u001b[0m\u001b[0m\n\u001b[0;32m--> 522\u001b[0;31m         \u001b[0mself\u001b[0m\u001b[0;34m.\u001b[0m\u001b[0minit_sims\u001b[0m\u001b[0;34m(\u001b[0m\u001b[0;34m)\u001b[0m\u001b[0;34m\u001b[0m\u001b[0m\n\u001b[0m\u001b[1;32m    523\u001b[0m \u001b[0;34m\u001b[0m\u001b[0m\n\u001b[1;32m    524\u001b[0m         \u001b[0;32mif\u001b[0m \u001b[0misinstance\u001b[0m\u001b[0;34m(\u001b[0m\u001b[0mpositive\u001b[0m\u001b[0;34m,\u001b[0m \u001b[0mstring_types\u001b[0m\u001b[0;34m)\u001b[0m \u001b[0;32mand\u001b[0m \u001b[0;32mnot\u001b[0m \u001b[0mnegative\u001b[0m\u001b[0;34m:\u001b[0m\u001b[0;34m\u001b[0m\u001b[0m\n",
      "\u001b[0;32m~/.local/lib/python3.6/site-packages/gensim/models/keyedvectors.py\u001b[0m in \u001b[0;36minit_sims\u001b[0;34m(self, replace)\u001b[0m\n\u001b[1;32m   1330\u001b[0m         \u001b[0;32mif\u001b[0m \u001b[0mgetattr\u001b[0m\u001b[0;34m(\u001b[0m\u001b[0mself\u001b[0m\u001b[0;34m,\u001b[0m \u001b[0;34m'vectors_norm'\u001b[0m\u001b[0;34m,\u001b[0m \u001b[0;32mNone\u001b[0m\u001b[0;34m)\u001b[0m \u001b[0;32mis\u001b[0m \u001b[0;32mNone\u001b[0m \u001b[0;32mor\u001b[0m \u001b[0mreplace\u001b[0m\u001b[0;34m:\u001b[0m\u001b[0;34m\u001b[0m\u001b[0m\n\u001b[1;32m   1331\u001b[0m             \u001b[0mlogger\u001b[0m\u001b[0;34m.\u001b[0m\u001b[0minfo\u001b[0m\u001b[0;34m(\u001b[0m\u001b[0;34m\"precomputing L2-norms of word weight vectors\"\u001b[0m\u001b[0;34m)\u001b[0m\u001b[0;34m\u001b[0m\u001b[0m\n\u001b[0;32m-> 1332\u001b[0;31m             \u001b[0mself\u001b[0m\u001b[0;34m.\u001b[0m\u001b[0mvectors_norm\u001b[0m \u001b[0;34m=\u001b[0m \u001b[0m_l2_norm\u001b[0m\u001b[0;34m(\u001b[0m\u001b[0mself\u001b[0m\u001b[0;34m.\u001b[0m\u001b[0mvectors\u001b[0m\u001b[0;34m,\u001b[0m \u001b[0mreplace\u001b[0m\u001b[0;34m=\u001b[0m\u001b[0mreplace\u001b[0m\u001b[0;34m)\u001b[0m\u001b[0;34m\u001b[0m\u001b[0m\n\u001b[0m\u001b[1;32m   1333\u001b[0m \u001b[0;34m\u001b[0m\u001b[0m\n\u001b[1;32m   1334\u001b[0m     \u001b[0;32mdef\u001b[0m \u001b[0mrelative_cosine_similarity\u001b[0m\u001b[0;34m(\u001b[0m\u001b[0mself\u001b[0m\u001b[0;34m,\u001b[0m \u001b[0mwa\u001b[0m\u001b[0;34m,\u001b[0m \u001b[0mwb\u001b[0m\u001b[0;34m,\u001b[0m \u001b[0mtopn\u001b[0m\u001b[0;34m=\u001b[0m\u001b[0;36m10\u001b[0m\u001b[0;34m)\u001b[0m\u001b[0;34m:\u001b[0m\u001b[0;34m\u001b[0m\u001b[0m\n",
      "\u001b[0;32m~/.local/lib/python3.6/site-packages/gensim/models/keyedvectors.py\u001b[0m in \u001b[0;36m_l2_norm\u001b[0;34m(m, replace)\u001b[0m\n\u001b[1;32m   2344\u001b[0m \u001b[0;34m\u001b[0m\u001b[0m\n\u001b[1;32m   2345\u001b[0m     \"\"\"\n\u001b[0;32m-> 2346\u001b[0;31m     \u001b[0mdist\u001b[0m \u001b[0;34m=\u001b[0m \u001b[0msqrt\u001b[0m\u001b[0;34m(\u001b[0m\u001b[0;34m(\u001b[0m\u001b[0mm\u001b[0m \u001b[0;34m**\u001b[0m \u001b[0;36m2\u001b[0m\u001b[0;34m)\u001b[0m\u001b[0;34m.\u001b[0m\u001b[0msum\u001b[0m\u001b[0;34m(\u001b[0m\u001b[0;34m-\u001b[0m\u001b[0;36m1\u001b[0m\u001b[0;34m)\u001b[0m\u001b[0;34m)\u001b[0m\u001b[0;34m[\u001b[0m\u001b[0;34m...\u001b[0m\u001b[0;34m,\u001b[0m \u001b[0mnewaxis\u001b[0m\u001b[0;34m]\u001b[0m\u001b[0;34m\u001b[0m\u001b[0m\n\u001b[0m\u001b[1;32m   2347\u001b[0m     \u001b[0;32mif\u001b[0m \u001b[0mreplace\u001b[0m\u001b[0;34m:\u001b[0m\u001b[0;34m\u001b[0m\u001b[0m\n\u001b[1;32m   2348\u001b[0m         \u001b[0mm\u001b[0m \u001b[0;34m/=\u001b[0m \u001b[0mdist\u001b[0m\u001b[0;34m\u001b[0m\u001b[0m\n",
      "\u001b[0;31mMemoryError\u001b[0m: "
     ]
    }
   ],
   "source": [
    "model.wv.most_similar('good')"
   ]
  },
  {
   "cell_type": "code",
   "execution_count": null,
   "metadata": {},
   "outputs": [],
   "source": []
  }
 ],
 "metadata": {
  "kernelspec": {
   "display_name": "Python 3",
   "language": "python",
   "name": "python3"
  },
  "language_info": {
   "codemirror_mode": {
    "name": "ipython",
    "version": 3
   },
   "file_extension": ".py",
   "mimetype": "text/x-python",
   "name": "python",
   "nbconvert_exporter": "python",
   "pygments_lexer": "ipython3",
   "version": "3.6.6"
  }
 },
 "nbformat": 4,
 "nbformat_minor": 2
}
